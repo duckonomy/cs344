{
 "cells": [
  {
   "cell_type": "markdown",
   "metadata": {},
   "source": [
    "# LSTM Model Training for Korean Community Website Posts"
   ]
  },
  {
   "cell_type": "markdown",
   "metadata": {},
   "source": [
    "**DISCLAIMER**: *I have primarily used a paid instance of Google Colab (https://colab.research.google.com/signup) for training my model. I have not tested this on my local system. So I cannot guarantee that this will run on any system. However, I did modify the code for weight import to account for running on a local system. On Colab you have to load it from a Google Drive to retain persistence*."
   ]
  },
  {
   "cell_type": "markdown",
   "metadata": {},
   "source": [
    "### Importing Libraries"
   ]
  },
  {
   "cell_type": "code",
   "execution_count": 27,
   "metadata": {},
   "outputs": [],
   "source": [
    "from __future__ import print_function\n",
    "from keras.callbacks import LambdaCallback\n",
    "from keras.callbacks import ModelCheckpoint\n",
    "from keras.models import Sequential\n",
    "from keras.models import model_from_json\n",
    "from keras.layers import Dense, Activation, Dropout\n",
    "from keras.layers import LSTM\n",
    "from keras.utils.data_utils import get_file\n",
    "from keras.optimizers import RMSprop\n",
    "from keras.optimizers import Adam"
   ]
  },
  {
   "cell_type": "code",
   "execution_count": 28,
   "metadata": {},
   "outputs": [],
   "source": [
    "import pandas as pd\n",
    "import numpy as np\n",
    "\n",
    "from urllib.request import urlopen\n",
    "import json\n",
    "import io\n",
    "import random\n",
    "import sys"
   ]
  },
  {
   "cell_type": "markdown",
   "metadata": {},
   "source": [
    "### Importing Data"
   ]
  },
  {
   "cell_type": "code",
   "execution_count": 29,
   "metadata": {},
   "outputs": [],
   "source": [
    "# # When running on Google Colab\n",
    "# from google.colab import drive\n",
    "# drive.mount('/content/drive')\n",
    "\n",
    "# url = 'https://raw.githubusercontent.com/duckonomy/cs344/master/project/api/models/dcinside.json'\n",
    "# data = urlopen(url).read().decode('utf-8')\n",
    "# data = json.loads(data)\n",
    "\n",
    "# load_path = 'drive/My Drive/Colab Notebooks/checkpoint/model-ilbe.h5'\n",
    "# load_model = 'drive/My Drive/Colab Notebooks/checkpoint/model.json'"
   ]
  },
  {
   "cell_type": "code",
   "execution_count": 30,
   "metadata": {},
   "outputs": [],
   "source": [
    "# When working on a Local System\n",
    "load_weights_dcinside = 'api/models/model-dcinside.h5'\n",
    "load_model_dcinside = 'api/models/model.json'\n",
    "data_file_dcinside = 'api/models/dcinside.json'\n",
    "\n",
    "load_weights_opgg = 'api/models/model-opgg.h5'\n",
    "load_model_opgg = 'api/models/model.json'\n",
    "data_file_opgg = 'api/models/opgg.json'"
   ]
  },
  {
   "cell_type": "markdown",
   "metadata": {},
   "source": [
    "For this example we will be using a single community datafile"
   ]
  },
  {
   "cell_type": "code",
   "execution_count": 31,
   "metadata": {},
   "outputs": [],
   "source": [
    "data_new = {}\n",
    "data_title = {}\n",
    "data_content = {}"
   ]
  },
  {
   "cell_type": "code",
   "execution_count": 32,
   "metadata": {},
   "outputs": [],
   "source": [
    "with open(data_file_dcinside, encoding='utf-8') as json_file:\n",
    "    j = 0\n",
    "\n",
    "    data = json.load(json_file)\n",
    "\n",
    "    for i in data:\n",
    "        title = i['title']\n",
    "        title = [c for c in title if '\\xa0' not in c]\n",
    "        title = [c for c in title if '\\n' not in c]\n",
    "        title = [c for c in title if 'jpg' not in c]\n",
    "        title = [c for c in title if 'gif' not in c]\n",
    "        title = [c for c in title if 'fact' not in c]\n",
    "        title_str = ''.join(map(str, title))\n",
    "        data_title[str(j)] = title_str.strip()\n",
    "        content = i['content']\n",
    "        content = [c for c in content if 'http' not in c]\n",
    "        content = [c for c in content if '\\xa0' not in c]\n",
    "        content = [c for c in content if '\\n' not in c]\n",
    "        content = [c for c in content if '- dc official App' not in c]\n",
    "        content = [c for c in content if '\\.jpg' not in c]\n",
    "        content = [c for c in content if '\\.gif' not in c]\n",
    "        content = [c for c in content if '\\.' not in c]\n",
    "        content_str = ''.join(map(str, content))\n",
    "        data_content[str(j)] = content_str.strip()\n",
    "        j += 1\n",
    "\n",
    "    data_new['title'] = data_title\n",
    "    data_new['content'] = data_content"
   ]
  },
  {
   "cell_type": "code",
   "execution_count": 33,
   "metadata": {},
   "outputs": [],
   "source": [
    "json_final = json.dumps(data_new, ensure_ascii=False)"
   ]
  },
  {
   "cell_type": "code",
   "execution_count": 34,
   "metadata": {},
   "outputs": [],
   "source": [
    "df = pd.read_json(json_final)\n",
    "title_text_arr = df['title'].to_numpy()\n",
    "content_text_arr = df['content'].to_numpy()"
   ]
  },
  {
   "cell_type": "code",
   "execution_count": 35,
   "metadata": {},
   "outputs": [],
   "source": [
    "text = df['content'].str.lower()\n",
    "text_content = df['title'].str.lower()\n",
    "\n",
    "text = text.append(text_content)"
   ]
  },
  {
   "cell_type": "code",
   "execution_count": 36,
   "metadata": {},
   "outputs": [
    {
     "name": "stdout",
     "output_type": "stream",
     "text": [
      "total chars: 2057\n"
     ]
    }
   ],
   "source": [
    "text = text.map(lambda s: ' '.join([x for x in s.split() if 'http' not in x]))\n",
    "text = text.map(lambda s: ' '.join([x for x in s.split() if 'gif' not in x]))\n",
    "text = text.map(lambda s: ' '.join([x for x in s.split() if 'jpg' not in x]))\n",
    "text = text.map(lambda s: ' '.join([x for x in s.split() if 'fact' not in x]))\n",
    "text = text.map(lambda s: ' '.join([x for x in s.split() if '\\.' not in x]))\n",
    "text = text.map(lambda s: ' '.join([x for x in s.split() if '\\u200b' not in x]))\n",
    "\n",
    "text = text[text.map(len) > 13]\n",
    "\n",
    "chars = sorted(list(set(''.join(text))))\n",
    "print('total chars:', len(chars))\n",
    "char_indices = dict((c, i) for i, c in enumerate(chars))\n",
    "indices_char = dict((i, c) for i, c in enumerate(chars))"
   ]
  },
  {
   "cell_type": "code",
   "execution_count": 44,
   "metadata": {},
   "outputs": [],
   "source": [
    "maxlen = 20\n",
    "step = 2"
   ]
  },
  {
   "cell_type": "code",
   "execution_count": 672,
   "metadata": {},
   "outputs": [],
   "source": [
    "def sample(preds, temperature=1.0):\n",
    "    preds = np.asarray(preds).astype('float64')\n",
    "    preds = np.log(preds) / temperature\n",
    "    exp_preds = np.exp(preds)\n",
    "    preds = exp_preds / np.sum(exp_preds)\n",
    "    probas = np.random.multinomial(1, preds, 1)\n",
    "    return np.argmax(probas)\n",
    "\n",
    "def generate_w2_seed(sentence, diversity):\n",
    "    sentence = sentence[0:maxlen]\n",
    "    generated = ''\n",
    "    generated += sentence\n",
    "\n",
    "    sys.stdout.write(generated)\n",
    "\n",
    "    for i in range(40):\n",
    "        x_pred = np.zeros((1, maxlen, len(chars)))\n",
    "        for t, char in enumerate(sentence):\n",
    "            x_pred[0, t, char_indices[char]] = 1.\n",
    "\n",
    "        preds = model.predict(x_pred, verbose=0)[0]\n",
    "        next_index = sample(preds, diversity)\n",
    "        next_char = indices_char[next_index]\n",
    "\n",
    "        generated += next_char\n",
    "        sentence = sentence[1:] + next_char\n",
    "\n",
    "    return generated"
   ]
  },
  {
   "cell_type": "code",
   "execution_count": 693,
   "metadata": {},
   "outputs": [],
   "source": [
    "def on_epoch_end(epoch, _):\n",
    "    print()\n",
    "    print('Generating text after Epoch: %d' % epoch)\n",
    "    \n",
    "    tweet = np.random.choice(text)\n",
    "    start_index = 0\n",
    "\n",
    "    for diversity in [0.2, 0.5, 1.0, 1.2]:\n",
    "        print('diversity:', diversity)\n",
    "\n",
    "        generated = ''\n",
    "        sentence = tweet[start_index: start_index + maxlen]\n",
    "        generated += sentence\n",
    "        print('Generating with seed: \"' + sentence + '\"')\n",
    "        sys.stdout.write(generated)\n",
    "\n",
    "        for i in range(30):\n",
    "            x_pred = np.zeros((1, maxlen, len(chars)))\n",
    "            for t, char in enumerate(sentence):\n",
    "                x_pred[0, t, char_indices[char]] = 1.\n",
    "\n",
    "            preds = model2.predict(x_pred, verbose=0)[0]\n",
    "            next_index = sample(preds, diversity)\n",
    "            next_char = indices_char[next_index]\n",
    "\n",
    "            generated += next_char\n",
    "            sentence = sentence[1:] + next_char\n",
    "\n",
    "            sys.stdout.write(next_char)\n",
    "            sys.stdout.flush()\n",
    "        print()"
   ]
  },
  {
   "cell_type": "code",
   "execution_count": 697,
   "metadata": {},
   "outputs": [
    {
     "name": "stdout",
     "output_type": "stream",
     "text": [
      "Build model...\n"
     ]
    }
   ],
   "source": [
    "print('Build model...')\n",
    "model = Sequential()\n",
    "model.add(LSTM(128, input_shape=(maxlen, len(chars)),return_sequences=True))\n",
    "model.add(Dropout(0.2))\n",
    "model.add(LSTM(128))\n",
    "model.add(Dropout(0.2))\n",
    "model.add(Dense(len(chars), activation='softmax'))\n",
    "\n",
    "optimizer = Adam()\n",
    "model2.compile(loss='categorical_crossentropy', optimizer=optimizer)"
   ]
  },
  {
   "cell_type": "code",
   "execution_count": 700,
   "metadata": {},
   "outputs": [
    {
     "name": "stdout",
     "output_type": "stream",
     "text": [
      "\n"
     ]
    }
   ],
   "source": [
    "epochs = 400\n",
    "\n",
    "model.load_weights(load_weights_dcinside)\n",
    "\n",
    "print_callback = LambdaCallback(on_epoch_end=on_epoch_end)\n",
    "\n",
    "checkpointer = ModelCheckpoint(filepath=load_weights_dcinside, monitor='loss', verbose=1, save_best_only=True, mode='min')\n",
    "\n",
    "model.fit(x, y,\n",
    "          batch_size=128,\n",
    "          epochs=epochs,\n",
    "          callbacks=[print_callback, checkpointer])"
   ]
  }
 ],
 "metadata": {
  "kernelspec": {
   "display_name": "Python 3",
   "language": "python",
   "name": "python3"
  },
  "language_info": {
   "codemirror_mode": {
    "name": "ipython",
    "version": 3
   },
   "file_extension": ".py",
   "mimetype": "text/x-python",
   "name": "python",
   "nbconvert_exporter": "python",
   "pygments_lexer": "ipython3",
   "version": "3.8.3"
  }
 },
 "nbformat": 4,
 "nbformat_minor": 4
}
