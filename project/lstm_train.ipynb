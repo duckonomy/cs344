{
 "cells": [
  {
   "cell_type": "markdown",
   "metadata": {},
   "source": [
    "# LSTM Model Training for Korean Community Website Posts"
   ]
  },
  {
   "cell_type": "markdown",
   "metadata": {},
   "source": [
    "**DISCLAIMER**: *I have primarily used a paid instance of Google Colab (https://colab.research.google.com/signup) for training my model. I have not tested this on my local system. So I cannot guarantee that this will run on any system. However, I did modify the code for weight import to account for running on a local system. On Colab you have to load it from a Google Drive to retain persistence*."
   ]
  },
  {
   "cell_type": "markdown",
   "metadata": {},
   "source": [
    "### Importing Libraries"
   ]
  },
  {
   "cell_type": "code",
   "execution_count": 27,
   "metadata": {},
   "outputs": [],
   "source": [
    "from __future__ import print_function\n",
    "from keras.callbacks import LambdaCallback\n",
    "from keras.callbacks import ModelCheckpoint\n",
    "from keras.models import Sequential\n",
    "from keras.models import model_from_json\n",
    "from keras.layers import Dense, Activation, Dropout\n",
    "from keras.layers import LSTM\n",
    "from keras.utils.data_utils import get_file\n",
    "from keras.optimizers import RMSprop\n",
    "from keras.optimizers import Adam"
   ]
  },
  {
   "cell_type": "code",
   "execution_count": 28,
   "metadata": {},
   "outputs": [],
   "source": [
    "import pandas as pd\n",
    "import numpy as np\n",
    "\n",
    "from urllib.request import urlopen\n",
    "import json\n",
    "import io\n",
    "import random\n",
    "import sys"
   ]
  },
  {
   "cell_type": "markdown",
   "metadata": {},
   "source": [
    "### Importing Data"
   ]
  },
  {
   "cell_type": "code",
   "execution_count": 716,
   "metadata": {},
   "outputs": [],
   "source": [
    "# # When running on Google Colab\n",
    "# from google.colab import drive\n",
    "# drive.mount('/content/drive')\n",
    "\n",
    "# url = 'https://raw.githubusercontent.com/duckonomy/cs344/master/project/api/models/dcinside.json'\n",
    "# data = urlopen(url).read().decode('utf-8')\n",
    "# data = json.loads(data)\n",
    "\n",
    "# load_path = 'drive/My Drive/Colab Notebooks/checkpoint/model-ilbe.h5'\n",
    "# load_model = 'drive/My Drive/Colab Notebooks/checkpoint/model.json'"
   ]
  },
  {
   "cell_type": "code",
   "execution_count": 717,
   "metadata": {},
   "outputs": [],
   "source": [
    "# When working on a Local System\n",
    "load_weights_dcinside = 'api/models/model-dcinside.h5'\n",
    "load_model_dcinside = 'api/models/model.json'\n",
    "data_file_dcinside = 'api/models/dcinside.json'\n",
    "\n",
    "load_weights_opgg = 'api/models/model-opgg.h5'\n",
    "load_model_opgg = 'api/models/model.json'\n",
    "data_file_opgg = 'api/models/opgg.json'"
   ]
  },
  {
   "cell_type": "markdown",
   "metadata": {},
   "source": [
    "For this example we will be using a single community datafile"
   ]
  },
  {
   "cell_type": "code",
   "execution_count": 718,
   "metadata": {},
   "outputs": [],
   "source": [
    "data_new = {}\n",
    "data_title = {}\n",
    "data_content = {}"
   ]
  },
  {
   "cell_type": "markdown",
   "metadata": {},
   "source": [
    "Importing the data from the JSON exported from Scrapy."
   ]
  },
  {
   "cell_type": "code",
   "execution_count": 747,
   "metadata": {},
   "outputs": [],
   "source": [
    "with open(data_file_dcinside, encoding='utf-8') as json_file:\n",
    "    j = 0\n",
    "\n",
    "    data = json.load(json_file)\n",
    "\n",
    "    for i in data:\n",
    "        title = i['title']\n",
    "        title = [c for c in title if '\\xa0' not in c]\n",
    "        title = [c for c in title if '\\n' not in c]\n",
    "        title = [c for c in title if 'jpg' not in c]\n",
    "        title = [c for c in title if 'gif' not in c]\n",
    "        title = [c for c in title if 'fact' not in c]\n",
    "        title_str = ''.join(map(str, title))\n",
    "        data_title[str(j)] = title_str.strip()\n",
    "        content = i['content']\n",
    "        content = [c for c in content if 'http' not in c]\n",
    "        content = [c for c in content if '\\xa0' not in c]\n",
    "        content = [c for c in content if '\\n' not in c]\n",
    "        content = [c for c in content if '- dc official App' not in c]\n",
    "        content = [c for c in content if '\\.jpg' not in c]\n",
    "        content = [c for c in content if '\\.gif' not in c]\n",
    "        content = [c for c in content if '\\.' not in c]\n",
    "        content_str = ''.join(map(str, content))\n",
    "        data_content[str(j)] = content_str.strip()\n",
    "        j += 1\n",
    "\n",
    "    data_new['title'] = data_title\n",
    "    data_new['content'] = data_content\n",
    "\n",
    "# Ensure utf-8 is used\n",
    "json_final = json.dumps(data_new, ensure_ascii=False)"
   ]
  },
  {
   "cell_type": "markdown",
   "metadata": {},
   "source": [
    "Convert the data to Pandas -> Numpy"
   ]
  },
  {
   "cell_type": "code",
   "execution_count": 727,
   "metadata": {},
   "outputs": [],
   "source": [
    "df = pd.read_json(json_final)\n",
    "title_text_arr = df['title'].to_numpy()\n",
    "content_text_arr = df['content'].to_numpy()\n",
    "\n",
    "text = df['content'].str.lower()\n",
    "text_content = df['title'].str.lower()\n",
    "\n",
    "text = text.append(text_content)"
   ]
  },
  {
   "cell_type": "markdown",
   "metadata": {},
   "source": [
    "Clean up the data Further"
   ]
  },
  {
   "cell_type": "code",
   "execution_count": 728,
   "metadata": {},
   "outputs": [],
   "source": [
    "text = text.map(lambda s: ' '.join([x for x in s.split() if '\\u200b' not in x]))\n",
    "\n",
    "# Eliminate text that isn't as long\n",
    "text = text[text.map(len) > 13]\n",
    "\n",
    "# Map the characters bidirectionally for encoding\n",
    "chars = sorted(list(set(''.join(text))))\n",
    "char_indices = dict((c, i) for i, c in enumerate(chars))\n",
    "indices_char = dict((i, c) for i, c in enumerate(chars))\n",
    "\n",
    "chars_length = len(chars)"
   ]
  },
  {
   "cell_type": "markdown",
   "metadata": {},
   "source": [
    "Create `sequences` that serve as the input training examples and `next_chars` that serve as the output for the training examples. Less sequences and steps means that there is more examples to iterate through. Thus, taking the training longer."
   ]
  },
  {
   "cell_type": "code",
   "execution_count": 731,
   "metadata": {},
   "outputs": [],
   "source": [
    "max_sequence_length = 20\n",
    "step = 2\n",
    "\n",
    "sequences = []\n",
    "next_chars = []\n",
    "for t in text:\n",
    "    for i in range(0, len(t) - max_sequence_length, step):\n",
    "        sequences.append(t[i: i + max_sequence_length])\n",
    "        next_chars.append(t[i + max_sequence_length])\n",
    "\n",
    "sequences_length = len(sequences)"
   ]
  },
  {
   "cell_type": "markdown",
   "metadata": {},
   "source": [
    "Generating a One-Hot encoding with input being a 3D matrix of `sequences_length` (number of sequences) * `max_sequence_length` (length of sequences) * `chars_length` (number of characters). Futhermore, the output y is a 2D matrix of `sequence_length` * `chars_length`."
   ]
  },
  {
   "cell_type": "code",
   "execution_count": 732,
   "metadata": {},
   "outputs": [],
   "source": [
    "x = np.zeros((sequences_length, max_sequence_length, chars_length), dtype=np.bool)\n",
    "y = np.zeros((sequences_length, chars_length), dtype=np.bool)\n",
    "\n",
    "for i, sequence in enumerate(sequences):\n",
    "    for t, char in enumerate(sequence):\n",
    "        x[i, t, char_indices[char]] = 1\n",
    "    y[i, char_indices[next_chars[i]]] = 1"
   ]
  },
  {
   "cell_type": "markdown",
   "metadata": {},
   "source": [
    "Sampler that generates chooses a probability based on a temperature rather than always returning the highest probability."
   ]
  },
  {
   "cell_type": "code",
   "execution_count": 733,
   "metadata": {},
   "outputs": [],
   "source": [
    "def sample(predictions, temperature=0.2):\n",
    "    predictions = np.asarray(predictions).astype('float64')\n",
    "    predictions = np.log(predictions) / temperature\n",
    "    exp_preds = np.exp(predictions)\n",
    "    predictions = exp_preds / np.sum(exp_preds)\n",
    "    probabilities = np.random.multinomial(1, predictions, 1)\n",
    "    return np.argmax(probabilities)"
   ]
  },
  {
   "cell_type": "markdown",
   "metadata": {},
   "source": [
    "Callback function used for printing out the generated text for each epoch"
   ]
  },
  {
   "cell_type": "code",
   "execution_count": 734,
   "metadata": {},
   "outputs": [],
   "source": [
    "def print_current_model(epoch, _):\n",
    "    print()\n",
    "    print('Current Epoch: %d' % epoch)\n",
    "    tweet = np.random.choice(text)\n",
    "    start_index = 0\n",
    "    \n",
    "    # Iterate through various temperatures\n",
    "    for var_temp in [0.2, 0.5, 1.0, 1.2]:\n",
    "        print('diversity:', var_temp)\n",
    "\n",
    "        generated = ''\n",
    "        sentence = tweet[start_index: start_index + max_sequence_length]\n",
    "        generated += sentence\n",
    "        print('Seed: \"' + sentence + '\"')\n",
    "        sys.stdout.write(generated)\n",
    "\n",
    "        for i in range(30):\n",
    "            x_pred = np.zeros((1, max_sequence_length, chars_length))\n",
    "            for t, char in enumerate(sentence):\n",
    "                x_pred[0, t, char_indices[char]] = 1.\n",
    "\n",
    "            predictions = model2.predict(x_pred, verbose=0)[0]\n",
    "            next_index = sample(predictions, var_temp)\n",
    "            next_char = indices_char[next_index]\n",
    "\n",
    "            generated += next_char\n",
    "            sentence = sentence[1:] + next_char\n",
    "\n",
    "            sys.stdout.write(next_char)\n",
    "            sys.stdout.flush()\n",
    "        print()"
   ]
  },
  {
   "cell_type": "markdown",
   "metadata": {},
   "source": [
    "Finalized Model"
   ]
  },
  {
   "cell_type": "code",
   "execution_count": 735,
   "metadata": {},
   "outputs": [],
   "source": [
    "model = Sequential()\n",
    "model.add(LSTM(128, input_shape=(max_sequence_length, chars_length),return_sequences=True))\n",
    "model.add(Dropout(0.2))\n",
    "model.add(LSTM(128))\n",
    "model.add(Dropout(0.2))\n",
    "model.add(Dense(chars_length, activation='softmax'))\n",
    "\n",
    "optimizer = Adam()\n",
    "model2.compile(loss='categorical_crossentropy', optimizer=optimizer)"
   ]
  },
  {
   "cell_type": "markdown",
   "metadata": {},
   "source": [
    "400 epochs and two callbacks to save progress on each improvement"
   ]
  },
  {
   "cell_type": "code",
   "execution_count": 700,
   "metadata": {},
   "outputs": [
    {
     "name": "stdout",
     "output_type": "stream",
     "text": [
      "\n"
     ]
    }
   ],
   "source": [
    "epochs = 400\n",
    "\n",
    "model.load_weights(load_weights_dcinside)\n",
    "\n",
    "print_callback = LambdaCallback(on_epoch_end=print_current_model)\n",
    "checkpoint_callback = ModelCheckpoint(filepath=load_weights_dcinside, monitor='loss', verbose=1, save_best_only=True, mode='min')\n",
    "\n",
    "model.fit(x, y,\n",
    "          batch_size=128,\n",
    "          epochs=epochs,\n",
    "          callbacks=[print_callback, checkpoint_callback])"
   ]
  }
 ],
 "metadata": {
  "kernelspec": {
   "display_name": "Python 3",
   "language": "python",
   "name": "python3"
  },
  "language_info": {
   "codemirror_mode": {
    "name": "ipython",
    "version": 3
   },
   "file_extension": ".py",
   "mimetype": "text/x-python",
   "name": "python",
   "nbconvert_exporter": "python",
   "pygments_lexer": "ipython3",
   "version": "3.8.3"
  }
 },
 "nbformat": 4,
 "nbformat_minor": 4
}
