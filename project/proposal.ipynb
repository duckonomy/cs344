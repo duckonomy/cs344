{
 "cells": [
  {
   "cell_type": "markdown",
   "metadata": {},
   "source": [
    "# Proposal\n",
    "\n",
    "My initial goal for this project is to create a forum bot that posts belivable posts. Every internet community has a unique culture and a unique way to speech. I want to be able to imitate these communities through machine learning. The broad field would be natural language processing. However, to obtain the information, I will also be doing some web-scraping on my target sites. For the machine learning, as many chat bots and twitter bots do, I will have to implement a Recurrant Neural Network (RNN) to learn on a given corpus of text.\n",
    "\n",
    "Since there are many bots and methods to do feature engineering for English, I want to focus on working with the Korean language. This is also a challenge in data collection because many Korean community sites do not have readily available APIs (like twitter) that I can interact with."
   ]
  }
 ],
 "metadata": {
  "kernelspec": {
   "display_name": "Python 3",
   "language": "python",
   "name": "python3"
  },
  "language_info": {
   "codemirror_mode": {
    "name": "ipython",
    "version": 3
   },
   "file_extension": ".py",
   "mimetype": "text/x-python",
   "name": "python",
   "nbconvert_exporter": "python",
   "pygments_lexer": "ipython3",
   "version": "3.8.2"
  }
 },
 "nbformat": 4,
 "nbformat_minor": 4
}
