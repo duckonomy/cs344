{
 "cells": [
  {
   "cell_type": "markdown",
   "metadata": {},
   "source": [
    "# Text Generation using LSTM Model for Korean Community Website Posts"
   ]
  },
  {
   "cell_type": "markdown",
   "metadata": {},
   "source": [
    "### Importing Libraries"
   ]
  },
  {
   "cell_type": "code",
   "execution_count": 1,
   "metadata": {},
   "outputs": [
    {
     "name": "stderr",
     "output_type": "stream",
     "text": [
      "Using TensorFlow backend.\n"
     ]
    }
   ],
   "source": [
    "from __future__ import print_function\n",
    "from keras.callbacks import LambdaCallback\n",
    "from keras.callbacks import ModelCheckpoint\n",
    "from keras.models import Sequential\n",
    "from keras.models import model_from_json\n",
    "from keras.layers import Dense, Activation, Dropout\n",
    "from keras.layers import LSTM\n",
    "from keras.utils.data_utils import get_file\n",
    "from keras.optimizers import RMSprop\n",
    "from keras.optimizers import Adam"
   ]
  },
  {
   "cell_type": "code",
   "execution_count": 2,
   "metadata": {},
   "outputs": [],
   "source": [
    "import pandas as pd\n",
    "import numpy as np\n",
    "\n",
    "from urllib.request import urlopen\n",
    "import json\n",
    "import io\n",
    "import random\n",
    "import sys"
   ]
  },
  {
   "cell_type": "markdown",
   "metadata": {},
   "source": [
    "### Importing Data"
   ]
  },
  {
   "cell_type": "code",
   "execution_count": null,
   "metadata": {},
   "outputs": [],
   "source": [
    "# # When running on Google Colab\n",
    "# from google.colab import drive\n",
    "# drive.mount('/content/drive')\n",
    "\n",
    "# url = 'https://raw.githubusercontent.com/duckonomy/cs344/master/project/api/models/dcinside.json'\n",
    "# data = urlopen(url).read().decode('utf-8')\n",
    "# data = json.loads(data)\n",
    "\n",
    "# load_path = 'drive/My Drive/Colab Notebooks/checkpoint/model-ilbe.h5'\n",
    "# load_model = 'drive/My Drive/Colab Notebooks/checkpoint/model.json'"
   ]
  },
  {
   "cell_type": "code",
   "execution_count": 13,
   "metadata": {},
   "outputs": [],
   "source": [
    "# When working on a Local System\n",
    "load_weights_dcinside = 'api/models/model-dcinside.h5'\n",
    "load_model_dcinside = 'api/models/model.json'\n",
    "data_file_dcinside = 'api/models/dcinside.json'\n",
    "\n",
    "load_weights_opgg = 'api/models/model-opgg.h5'\n",
    "load_model_opgg = 'api/models/model.json'\n",
    "data_file_opgg = 'api/models/opgg.json'"
   ]
  },
  {
   "cell_type": "markdown",
   "metadata": {},
   "source": [
    "For this example we will be using a single community datafile"
   ]
  },
  {
   "cell_type": "code",
   "execution_count": 14,
   "metadata": {},
   "outputs": [],
   "source": [
    "data_new = {}\n",
    "data_title = {}\n",
    "data_content = {}"
   ]
  },
  {
   "cell_type": "code",
   "execution_count": 15,
   "metadata": {},
   "outputs": [],
   "source": [
    "with open(data_file_dcinside, encoding='utf-8') as json_file:\n",
    "    j = 0\n",
    "\n",
    "    data = json.load(json_file)\n",
    "\n",
    "    for i in data:\n",
    "        title = i['title']\n",
    "        title = [c for c in title if '\\xa0' not in c]\n",
    "        title = [c for c in title if '\\n' not in c]\n",
    "        title = [c for c in title if 'jpg' not in c]\n",
    "        title = [c for c in title if 'gif' not in c]\n",
    "        title = [c for c in title if 'fact' not in c]\n",
    "        title_str = ''.join(map(str, title))\n",
    "        data_title[str(j)] = title_str.strip()\n",
    "        content = i['content']\n",
    "        content = [c for c in content if 'http' not in c]\n",
    "        content = [c for c in content if '\\xa0' not in c]\n",
    "        content = [c for c in content if '\\n' not in c]\n",
    "        content = [c for c in content if '- dc official App' not in c]\n",
    "        content = [c for c in content if '\\.jpg' not in c]\n",
    "        content = [c for c in content if '\\.gif' not in c]\n",
    "        content = [c for c in content if '\\.' not in c]\n",
    "        content_str = ''.join(map(str, content))\n",
    "        data_content[str(j)] = content_str.strip()\n",
    "        j += 1\n",
    "\n",
    "    data_new['title'] = data_title\n",
    "    data_new['content'] = data_content"
   ]
  },
  {
   "cell_type": "code",
   "execution_count": 16,
   "metadata": {},
   "outputs": [],
   "source": [
    "json_final = json.dumps(data_new, ensure_ascii=False)"
   ]
  },
  {
   "cell_type": "code",
   "execution_count": 17,
   "metadata": {},
   "outputs": [],
   "source": [
    "df = pd.read_json(json_final)\n",
    "title_text_arr = df['title'].to_numpy()\n",
    "content_text_arr = df['content'].to_numpy()"
   ]
  },
  {
   "cell_type": "code",
   "execution_count": 18,
   "metadata": {},
   "outputs": [],
   "source": [
    "text = df['content'].str.lower()\n",
    "text_content = df['title'].str.lower()\n",
    "\n",
    "text = text.append(text_content)"
   ]
  },
  {
   "cell_type": "code",
   "execution_count": 19,
   "metadata": {},
   "outputs": [
    {
     "name": "stdout",
     "output_type": "stream",
     "text": [
      "total chars: 2057\n"
     ]
    }
   ],
   "source": [
    "text = text.map(lambda s: ' '.join([x for x in s.split() if 'http' not in x]))\n",
    "text = text.map(lambda s: ' '.join([x for x in s.split() if 'gif' not in x]))\n",
    "text = text.map(lambda s: ' '.join([x for x in s.split() if 'jpg' not in x]))\n",
    "text = text.map(lambda s: ' '.join([x for x in s.split() if 'fact' not in x]))\n",
    "text = text.map(lambda s: ' '.join([x for x in s.split() if '\\.' not in x]))\n",
    "text = text.map(lambda s: ' '.join([x for x in s.split() if '\\u200b' not in x]))\n",
    "\n",
    "text = text[text.map(len) > 13]\n",
    "\n",
    "chars = sorted(list(set(''.join(text))))\n",
    "print('total chars:', len(chars))\n",
    "char_indices = dict((c, i) for i, c in enumerate(chars))\n",
    "indices_char = dict((i, c) for i, c in enumerate(chars))"
   ]
  },
  {
   "cell_type": "code",
   "execution_count": 27,
   "metadata": {},
   "outputs": [],
   "source": [
    "maxlen = 20\n",
    "step = 2"
   ]
  },
  {
   "cell_type": "code",
   "execution_count": 21,
   "metadata": {},
   "outputs": [],
   "source": [
    "def sample(preds, temperature=1.0):\n",
    "    preds = np.asarray(preds).astype('float64')\n",
    "    preds = np.log(preds) / temperature\n",
    "    exp_preds = np.exp(preds)\n",
    "    preds = exp_preds / np.sum(exp_preds)\n",
    "    probas = np.random.multinomial(1, preds, 1)\n",
    "    return np.argmax(probas)\n",
    "\n",
    "def generate_w2_seed(sentence, diversity):\n",
    "    sentence = sentence[0:maxlen]\n",
    "    generated = ''\n",
    "    generated += sentence\n",
    "\n",
    "    sys.stdout.write(generated)\n",
    "\n",
    "    for i in range(40):\n",
    "        x_pred = np.zeros((1, maxlen, len(chars)))\n",
    "        for t, char in enumerate(sentence):\n",
    "            x_pred[0, t, char_indices[char]] = 1.\n",
    "\n",
    "        preds = model.predict(x_pred, verbose=0)[0]\n",
    "        next_index = sample(preds, diversity)\n",
    "        next_char = indices_char[next_index]\n",
    "\n",
    "        generated += next_char\n",
    "        sentence = sentence[1:] + next_char\n",
    "\n",
    "    return generated"
   ]
  },
  {
   "cell_type": "code",
   "execution_count": 22,
   "metadata": {},
   "outputs": [
    {
     "name": "stdout",
     "output_type": "stream",
     "text": [
      "Loaded model from disk\n"
     ]
    }
   ],
   "source": [
    "json_file = open(load_model_dcinside, 'r')\n",
    "model_json = json_file.read()\n",
    "json_file.close()\n",
    "model = model_from_json(model_json)\n",
    "model.load_weights(load_weights_dcinside)"
   ]
  },
  {
   "cell_type": "code",
   "execution_count": 23,
   "metadata": {},
   "outputs": [],
   "source": [
    "optimizer = Adam()\n",
    "model.compile(loss='categorical_crossentropy', optimizer=optimizer)"
   ]
  },
  {
   "cell_type": "code",
   "execution_count": 31,
   "metadata": {},
   "outputs": [],
   "source": [
    "blacklist = [\n",
    "    \"어\",\n",
    "    \"듬\",\n",
    "    \"음\",\n",
    "    \"슴\",\n",
    "    \"지\",\n",
    "    \"삼\",\n",
    "    \"듯\",\n",
    "    \"음\",\n",
    "    \"야\",\n",
    "    \"럼\",\n",
    "    \"옴\",\n",
    "    \"임\",\n",
    "    \"며\",\n",
    "    \"좀\",\n",
    "    \"김\",\n",
    "    \"ㄷㄷ\",\n",
    "    \"림\",\n",
    "    \"금\"\n",
    "    \"구나\",\n",
    "    \"조음\",\n",
    "    \"웃김\",\n",
    "    \"ㅅㄱ\",\n",
    "    \"나\",\n",
    "    \"ㅋㅋ\",\n",
    "    \"들아\",\n",
    "    \"다\",\n",
    "    \"네\",\n",
    "    \"있노\",\n",
    "    \"냐\",\n",
    "    \"냐고\",\n",
    "    \"점\",\n",
    "    \"함\",\n",
    "    \"네ㅔ\",\n",
    "    \"셈\",\n",
    "    \"앗서\",\n",
    "    \"자\",\n",
    "    \"써\",\n",
    "    \"ㄹㅇ\",\n",
    "    \"데\",\n",
    "    \"요\",\n",
    "    \"라\",\n",
    "    \"퍼\",\n",
    "    \"중\",\n",
    "    \"됨\",\n",
    "    \"셈\",\n",
    "    \"ㅜㅜ\",\n",
    "    \"ㅎㅎ\",\n",
    "    \"까\",\n",
    "    \"짐\",\n",
    "    \"당\",\n",
    "    \"님\",\n",
    "    \"분\",\n",
    "    \"니\",\n",
    "    \"햇\",\n",
    "    \"가\",\n",
    "    \"죠\",\n",
    "    \"잖아\",\n",
    "    \"븃\"]"
   ]
  },
  {
   "cell_type": "code",
   "execution_count": 32,
   "metadata": {},
   "outputs": [],
   "source": [
    "def blacklist_contains(blacklist, seed):\n",
    "    for i in blacklist:\n",
    "        if i in seed[-2:]:\n",
    "            return True\n",
    "    return False"
   ]
  },
  {
   "cell_type": "code",
   "execution_count": 34,
   "metadata": {},
   "outputs": [
    {
     "name": "stdout",
     "output_type": "stream",
     "text": [
      "이 귀여운 생물체는 정체가 뭐냐\n",
      "heh\n",
      "밥 먹으러 왔는데 옆자리에 페미언냐 앉음\n",
      "heh\n",
      "딘 얼굴에서 눈꼬리 살짝 내리고안경 씌워주면 딱 나일듯\n",
      "heh\n",
      "오버워치 잘 하면 발로란트도 잘함\n",
      "heh\n",
      "우리 인싸들 열심히 싸돌아다니고있노\n",
      "heh\n",
      "초심 잃었네진짜 개구리나 뉴트로지나나 삶아먹으라고\n",
      "heh\n",
      "시盧엘리스 7월 1일에 오픈한다는데\n",
      "heh\n",
      "우리들의 처음을 앗아갔던 게임 속 그녀들\n",
      "녀들\n"
     ]
    },
    {
     "name": "stderr",
     "output_type": "stream",
     "text": [
      "<ipython-input-21-267a41fdabb2>:4: RuntimeWarning: divide by zero encountered in log\n",
      "  preds = np.log(preds) / temperature\n"
     ]
    },
    {
     "name": "stdout",
     "output_type": "stream",
     "text": [
      "녀로 결리에 실부한가 남면 악가 있어나도 좋을 생각이나 세명하고대도 좀해서 울준 고능인 남자들고 당신가거서 뭔가 자리 게 알아버렸다고거그거네ㅋㅋ내리 아니리사에 기가고 있다는거고 울려고 신리가 연관의 포적당 야성기, \n"
     ]
    }
   ],
   "source": [
    "my_text = random.choice(list(text))\n",
    "\n",
    "while True:\n",
    "    if (blacklist_contains(blacklist, my_text)):\n",
    "        my_text = random.choice(list(text))\n",
    "    else:\n",
    "        break\n",
    "print(my_text)\n",
    "print(my_text[-2:])\n",
    "\n",
    "print(generate_w2_seed(my_text, 0.2))"
   ]
  }
 ],
 "metadata": {
  "kernelspec": {
   "display_name": "Python 3",
   "language": "python",
   "name": "python3"
  },
  "language_info": {
   "codemirror_mode": {
    "name": "ipython",
    "version": 3
   },
   "file_extension": ".py",
   "mimetype": "text/x-python",
   "name": "python",
   "nbconvert_exporter": "python",
   "pygments_lexer": "ipython3",
   "version": "3.8.3"
  }
 },
 "nbformat": 4,
 "nbformat_minor": 4
}
