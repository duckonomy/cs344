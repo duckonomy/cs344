{
 "cells": [
  {
   "cell_type": "markdown",
   "metadata": {},
   "source": [
    "# Text Generation using LSTM Model for Korean Community Website Posts"
   ]
  },
  {
   "cell_type": "markdown",
   "metadata": {},
   "source": [
    "### Importing Libraries"
   ]
  },
  {
   "cell_type": "code",
   "execution_count": 60,
   "metadata": {},
   "outputs": [],
   "source": [
    "from __future__ import print_function\n",
    "from keras.callbacks import LambdaCallback\n",
    "from keras.callbacks import ModelCheckpoint\n",
    "from keras.models import Sequential\n",
    "from keras.models import model_from_json\n",
    "from keras.layers import Dense, Activation, Dropout\n",
    "from keras.layers import LSTM\n",
    "from keras.utils.data_utils import get_file\n",
    "from keras.optimizers import RMSprop\n",
    "from keras.optimizers import Adam"
   ]
  },
  {
   "cell_type": "code",
   "execution_count": 61,
   "metadata": {},
   "outputs": [],
   "source": [
    "import pandas as pd\n",
    "import numpy as np\n",
    "\n",
    "from urllib.request import urlopen\n",
    "import json\n",
    "import io\n",
    "import random\n",
    "import sys"
   ]
  },
  {
   "cell_type": "markdown",
   "metadata": {},
   "source": [
    "### Importing Data"
   ]
  },
  {
   "cell_type": "code",
   "execution_count": 62,
   "metadata": {},
   "outputs": [],
   "source": [
    "# # When running on Google Colab\n",
    "# from google.colab import drive\n",
    "# drive.mount('/content/drive')\n",
    "\n",
    "# url = 'https://raw.githubusercontent.com/duckonomy/cs344/master/project/api/models/dcinside.json'\n",
    "# data = urlopen(url).read().decode('utf-8')\n",
    "# data = json.loads(data)\n",
    "\n",
    "# load_path = 'drive/My Drive/Colab Notebooks/checkpoint/model-ilbe.h5'\n",
    "# load_model = 'drive/My Drive/Colab Notebooks/checkpoint/model.json'"
   ]
  },
  {
   "cell_type": "code",
   "execution_count": 63,
   "metadata": {},
   "outputs": [],
   "source": [
    "# When working on a Local System\n",
    "load_weights_dcinside = 'api/models/model-dcinside.h5'\n",
    "load_model_dcinside = 'api/models/model.json'\n",
    "data_file_dcinside = 'api/models/dcinside.json'\n",
    "\n",
    "load_weights_opgg = 'api/models/model-opgg.h5'\n",
    "load_model_opgg = 'api/models/model.json'\n",
    "data_file_opgg = 'api/models/opgg.json'"
   ]
  },
  {
   "cell_type": "markdown",
   "metadata": {},
   "source": [
    "For this example we will be using a single community datafile"
   ]
  },
  {
   "cell_type": "code",
   "execution_count": 64,
   "metadata": {},
   "outputs": [],
   "source": [
    "data_new = {}\n",
    "data_title = {}\n",
    "data_content = {}"
   ]
  },
  {
   "cell_type": "code",
   "execution_count": 65,
   "metadata": {},
   "outputs": [],
   "source": [
    "with open(data_file_dcinside, encoding='utf-8') as json_file:\n",
    "    j = 0\n",
    "\n",
    "    data = json.load(json_file)\n",
    "\n",
    "    for i in data:\n",
    "        title = i['title']\n",
    "        title = [c for c in title if '\\xa0' not in c]\n",
    "        title = [c for c in title if '\\n' not in c]\n",
    "        title = [c for c in title if 'jpg' not in c]\n",
    "        title = [c for c in title if 'gif' not in c]\n",
    "        title = [c for c in title if 'fact' not in c]\n",
    "\n",
    "        title_str = ''.join(map(str, title))\n",
    "        data_title[str(j)] = title_str.strip()\n",
    "        content = i['content']\n",
    "        content = [c for c in content if 'http' not in c]\n",
    "        content = [c for c in content if '\\xa0' not in c]\n",
    "        content = [c for c in content if '\\n' not in c]\n",
    "        content = [c for c in content if '- dc official App' not in c]\n",
    "        content = [c for c in content if '\\.jpg' not in c]\n",
    "        content = [c for c in content if '\\.gif' not in c]\n",
    "        content = [c for c in content if '\\.' not in c]\n",
    "\n",
    "        content_str = ''.join(map(str, content))\n",
    "        data_content[str(j)] = content_str.strip()\n",
    "        j += 1\n",
    "\n",
    "    data_new['title'] = data_title\n",
    "    data_new['content'] = data_content\n",
    "    \n",
    "json_final = json.dumps(data_new, ensure_ascii=False)"
   ]
  },
  {
   "cell_type": "code",
   "execution_count": 66,
   "metadata": {},
   "outputs": [],
   "source": [
    "df = pd.read_json(json_final)\n",
    "title_text_arr = df['title'].to_numpy()\n",
    "content_text_arr = df['content'].to_numpy()\n",
    "\n",
    "text = df['content'].str.lower()\n",
    "text_content = df['title'].str.lower()\n",
    "\n",
    "text = text.append(text_content)"
   ]
  },
  {
   "cell_type": "code",
   "execution_count": 67,
   "metadata": {},
   "outputs": [],
   "source": [
    "text = text.map(lambda s: ' '.join([x for x in s.split() if '\\u200b' not in x]))\n",
    "\n",
    "# Eliminate text that isn't as long\n",
    "text = text[text.map(len) > 13]\n",
    "\n",
    "# Map the characters bidirectionally for encoding\n",
    "chars = sorted(list(set(''.join(text))))\n",
    "char_indices = dict((c, i) for i, c in enumerate(chars))\n",
    "indices_char = dict((i, c) for i, c in enumerate(chars))\n",
    "\n",
    "chars_length = len(chars)"
   ]
  },
  {
   "cell_type": "code",
   "execution_count": 74,
   "metadata": {},
   "outputs": [],
   "source": [
    "max_sequence_length = 20\n",
    "step = 2"
   ]
  },
  {
   "cell_type": "code",
   "execution_count": 68,
   "metadata": {},
   "outputs": [],
   "source": [
    "def sample(predictions, temperature=0.2):\n",
    "    predictions = np.asarray(predictions).astype('float64')\n",
    "    predictions = np.log(predictions) / temperature\n",
    "    exp_preds = np.exp(predictions)\n",
    "    predictions = exp_preds / np.sum(exp_preds)\n",
    "    probabilities = np.random.multinomial(1, predictions, 1)\n",
    "    return np.argmax(probabilities)\n",
    "\n",
    "# Similar to print_current_model() in lstm_train.ipynb\n",
    "def generate_text(sequence, diversity):\n",
    "    sequence = sequence[0:max_sequence_length]\n",
    "    generated = ''\n",
    "    generated += sequence\n",
    "\n",
    "    sys.stdout.write(generated)\n",
    "\n",
    "    for i in range(40):\n",
    "        x_pred = np.zeros((1, max_sequence_length, len(chars)))\n",
    "        for t, char in enumerate(sequence):\n",
    "            x_pred[0, t, char_indices[char]] = 1.\n",
    "\n",
    "        preds = model.predict(x_pred, verbose=0)[0]\n",
    "        next_index = sample(preds, diversity)\n",
    "        next_char = indices_char[next_index]\n",
    "\n",
    "        generated += next_char\n",
    "        sequence = sequence[1:] + next_char\n",
    "\n",
    "    return generated"
   ]
  },
  {
   "cell_type": "markdown",
   "metadata": {},
   "source": [
    "Load model to evaluate"
   ]
  },
  {
   "cell_type": "code",
   "execution_count": 69,
   "metadata": {},
   "outputs": [],
   "source": [
    "json_file = open(load_model_dcinside, 'r')\n",
    "model_json = json_file.read()\n",
    "json_file.close()\n",
    "model = model_from_json(model_json)\n",
    "model.load_weights(load_weights_dcinside)"
   ]
  },
  {
   "cell_type": "code",
   "execution_count": 70,
   "metadata": {},
   "outputs": [],
   "source": [
    "optimizer = Adam()\n",
    "model.compile(loss='categorical_crossentropy', optimizer=optimizer)"
   ]
  },
  {
   "cell_type": "code",
   "execution_count": 71,
   "metadata": {},
   "outputs": [],
   "source": [
    "blacklist = [\n",
    "    \"어\",\n",
    "    \"듬\",\n",
    "    \"음\",\n",
    "    \"슴\",\n",
    "    \"지\",\n",
    "    \"삼\",\n",
    "    \"듯\",\n",
    "    \"음\",\n",
    "    \"야\",\n",
    "    \"럼\",\n",
    "    \"옴\",\n",
    "    \"임\",\n",
    "    \"며\",\n",
    "    \"좀\",\n",
    "    \"김\",\n",
    "    \"림\",\n",
    "    \"금\"\n",
    "    \"나\",\n",
    "    \"네\",\n",
    "    \"다\",\n",
    "    \"점\",\n",
    "    \"함\",\n",
    "    \"셈\",\n",
    "    \"자\",\n",
    "    \"써\",\n",
    "    \"데\",\n",
    "    \"요\",\n",
    "    \"라\",\n",
    "    \"퍼\",\n",
    "    \"중\",\n",
    "    \"됨\",\n",
    "    \"셈\",\n",
    "    \"까\",\n",
    "    \"짐\",\n",
    "    \"당\",\n",
    "    \"님\",\n",
    "    \"분\",\n",
    "    \"니\",\n",
    "    \"햇\",\n",
    "    \"가\",\n",
    "    \"냐\",\n",
    "    \"븃\",\n",
    "    \"죠\",\n",
    "    \"구나\",\n",
    "    \"조음\",\n",
    "    \"웃김\",\n",
    "    \"들아\",\n",
    "    \"있노\",\n",
    "    \"냐고\",\n",
    "    \"앗서\",\n",
    "    \"잖아\",\n",
    "    \"ㅅㄱ\",\n",
    "    \"ㅋㅋ\",\n",
    "    \"ㄹㅇ\",\n",
    "    \"ㄷㄷ\",\n",
    "    \"ㅜㅜ\",\n",
    "    \"ㅎㅎ\",\n",
    "    \"네ㅔ\",\n",
    "]"
   ]
  },
  {
   "cell_type": "code",
   "execution_count": 72,
   "metadata": {},
   "outputs": [],
   "source": [
    "def blacklist_contains(blacklist, seed):\n",
    "    for i in blacklist:\n",
    "        if i in seed[-2:]:\n",
    "            return True\n",
    "    return False"
   ]
  },
  {
   "cell_type": "code",
   "execution_count": 73,
   "metadata": {},
   "outputs": [
    {
     "name": "stdout",
     "output_type": "stream",
     "text": [
      "더워서 창문열엇더니 바로 재채기 나오더워서 창문열엇더니 바로 재채기 나오내버릴놓구도지부터 커스리랑 소용한 사업이 굴치보루 해담히었는 전이어보고하\n"
     ]
    },
    {
     "name": "stderr",
     "output_type": "stream",
     "text": [
      "<ipython-input-68-4e4acb594bd9>:3: RuntimeWarning: divide by zero encountered in log\n",
      "  predictions = np.log(predictions) / temperature\n"
     ]
    }
   ],
   "source": [
    "my_text = random.choice(list(text))\n",
    "\n",
    "while True:\n",
    "    if (blacklist_contains(blacklist, my_text)):\n",
    "        my_text = random.choice(list(text))\n",
    "    else:\n",
    "        break\n",
    "\n",
    "print(generate_text(my_text, 0.2))"
   ]
  },
  {
   "cell_type": "code",
   "execution_count": null,
   "metadata": {},
   "outputs": [],
   "source": []
  }
 ],
 "metadata": {
  "kernelspec": {
   "display_name": "Python 3",
   "language": "python",
   "name": "python3"
  },
  "language_info": {
   "codemirror_mode": {
    "name": "ipython",
    "version": 3
   },
   "file_extension": ".py",
   "mimetype": "text/x-python",
   "name": "python",
   "nbconvert_exporter": "python",
   "pygments_lexer": "ipython3",
   "version": "3.8.3"
  }
 },
 "nbformat": 4,
 "nbformat_minor": 4
}
