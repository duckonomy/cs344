{
 "cells": [
  {
   "cell_type": "markdown",
   "metadata": {},
   "source": [
    "# Homework 3: CS344, Spring 2020\n",
    "\n",
    "# Ian Park"
   ]
  },
  {
   "cell_type": "markdown",
   "metadata": {},
   "source": [
    "## 1. Compute the following values using the restaurant example."
   ]
  },
  {
   "cell_type": "markdown",
   "metadata": {},
   "source": [
    "#### a. The information gain provided by using the price attribute as the root of the decision tree. Is it more or less valuable than the type or patrons attributes computed in class?"
   ]
  },
  {
   "cell_type": "markdown",
   "metadata": {},
   "source": [
    "From the Guide:\n",
    "\n",
    "$Entropy(V) = \\sum_{i = 1}^{n} v_i \\times \\log_2(v_i)$\n",
    "\n",
    "$Remainder(A) = \\sum_{i = 1}^{d} \\frac{p_i + n_i}{p+n} \\times Entropy(\\frac{p_i}{p_i + n_i}, \\frac{n_i}{p_i + n_i})$\n",
    "\n",
    "$Gain(A) = Entropy(V) - Remainder(A)$\n",
    "\n",
    "$Gain(Patrons?) = 0.54 bits$\n",
    "\n",
    "\n",
    "\n",
    "**Calculations**:\n",
    "\n",
    "*Entropy*\n",
    "\n",
    "\\begin{align}\n",
    "Entropy(Init) & = -(\\frac{6}{12} \\cdot \\log_2(\\frac{6}{12}) + \\frac{6}{12} \\cdot \\log_2(\\frac{6}{12})) \\\\\n",
    "& = 1 \\\\\n",
    "\\end{align}\n",
    "\n",
    "*Remainder*\n",
    "\n",
    "\\begin{align}\n",
    "Remainder(Price?) & = \\frac{3}{12} Entropy($$$) + \\frac{2}{12} Entropy($$) + \\frac{7}{12}Entropy($) \\\\\n",
    "& = \\frac{3}{12} \\times (-(\\frac{1}{3}\\log_2(\\frac{1}{3})+\\frac{2}{3}\\log_2(\\frac{2}{3}))) + \\frac{2}{12} \\times 0 + \\frac{7}{12} \\times (-(\\frac{3}{7}\\log_2(\\frac{3}{7})+\\frac{4}{7}log_2(\\frac{4}{7})) \\\\\n",
    "& = 0.8043 \\\\\n",
    "\\end{align}\n",
    "\n",
    "*Gain*\n",
    "\n",
    "\\begin{align}\n",
    "Gain(Price?) & = Entropy(Init) - Remainder(Price?) \\\\\n",
    "& = 1 - 0.8043 \\\\\n",
    "& = 0.1957 \\\\\n",
    "\\end{align}\n",
    "\n",
    "Since the information gain for *Price* is 0.1957, it is more valuable than *Patrons* (0.54) and less valuable than *Types* (0)."
   ]
  },
  {
   "cell_type": "markdown",
   "metadata": {},
   "source": [
    "## 2. In class, we attempted to create by hand a neural network that computes the XOR function. If this was possible, see if you can simplify the network we built. Consider relaxing the conventions of densely-connected, sequential layers. If it was not possible, give a full explanation why it can’t be done."
   ]
  },
  {
   "cell_type": "markdown",
   "metadata": {},
   "source": [
    "We could simplify the network by relaxing the convention of sequential layers, as suggested by the question. That is, we will have the two inputs directly linked to the output. And an additional center hidden layer with a single neuron connected with the input and output neurons with a threshold of 1.5. This threshold makes sure that it will be activated when both inputs are 1 (AND). Likewise, the weight of this layer to the output layer would be -2 so that it won't pass the threshold in the end resulting in a 0. And there will be a single output with the threshold of 0.5 in order to make sure that the output will be true if and only if the added inputs has a value greater than 0.5 (all the possibilities of OR, but 1,1 will be filtered by the center layer)."
   ]
  },
  {
   "cell_type": "markdown",
   "metadata": {},
   "source": [
    "## 3. Use Python/NumPy/Pandas/Keras to load and manipulate the Boston Housing Dataset as follows."
   ]
  },
  {
   "cell_type": "markdown",
   "metadata": {},
   "source": [
    "Import packages"
   ]
  },
  {
   "cell_type": "code",
   "execution_count": 12,
   "metadata": {},
   "outputs": [],
   "source": [
    "import pandas as pd\n",
    "import numpy as np"
   ]
  },
  {
   "cell_type": "markdown",
   "metadata": {},
   "source": [
    "Assign values"
   ]
  },
  {
   "cell_type": "code",
   "execution_count": 19,
   "metadata": {},
   "outputs": [
    {
     "data": {
      "text/html": [
       "<div>\n",
       "<style scoped>\n",
       "    .dataframe tbody tr th:only-of-type {\n",
       "        vertical-align: middle;\n",
       "    }\n",
       "\n",
       "    .dataframe tbody tr th {\n",
       "        vertical-align: top;\n",
       "    }\n",
       "\n",
       "    .dataframe thead th {\n",
       "        text-align: right;\n",
       "    }\n",
       "</style>\n",
       "<table border=\"1\" class=\"dataframe\">\n",
       "  <thead>\n",
       "    <tr style=\"text-align: right;\">\n",
       "      <th></th>\n",
       "      <th>crim</th>\n",
       "      <th>zn</th>\n",
       "      <th>indus</th>\n",
       "      <th>chas</th>\n",
       "      <th>nox</th>\n",
       "      <th>rm</th>\n",
       "      <th>age</th>\n",
       "      <th>dis</th>\n",
       "      <th>rad</th>\n",
       "      <th>tax</th>\n",
       "      <th>ptratio</th>\n",
       "      <th>b</th>\n",
       "      <th>lstat</th>\n",
       "      <th>medv</th>\n",
       "    </tr>\n",
       "  </thead>\n",
       "  <tbody>\n",
       "    <tr>\n",
       "      <th>409</th>\n",
       "      <td>14.43830</td>\n",
       "      <td>0.0</td>\n",
       "      <td>18.10</td>\n",
       "      <td>0</td>\n",
       "      <td>0.597</td>\n",
       "      <td>6.852</td>\n",
       "      <td>100.0</td>\n",
       "      <td>1.4655</td>\n",
       "      <td>24</td>\n",
       "      <td>666</td>\n",
       "      <td>20.2</td>\n",
       "      <td>179.36</td>\n",
       "      <td>19.78</td>\n",
       "      <td>27.5</td>\n",
       "    </tr>\n",
       "    <tr>\n",
       "      <th>84</th>\n",
       "      <td>0.05059</td>\n",
       "      <td>0.0</td>\n",
       "      <td>4.49</td>\n",
       "      <td>0</td>\n",
       "      <td>0.449</td>\n",
       "      <td>6.389</td>\n",
       "      <td>48.0</td>\n",
       "      <td>4.7794</td>\n",
       "      <td>3</td>\n",
       "      <td>247</td>\n",
       "      <td>18.5</td>\n",
       "      <td>396.90</td>\n",
       "      <td>9.62</td>\n",
       "      <td>23.9</td>\n",
       "    </tr>\n",
       "    <tr>\n",
       "      <th>300</th>\n",
       "      <td>0.04417</td>\n",
       "      <td>70.0</td>\n",
       "      <td>2.24</td>\n",
       "      <td>0</td>\n",
       "      <td>0.400</td>\n",
       "      <td>6.871</td>\n",
       "      <td>47.4</td>\n",
       "      <td>7.8278</td>\n",
       "      <td>5</td>\n",
       "      <td>358</td>\n",
       "      <td>14.8</td>\n",
       "      <td>390.86</td>\n",
       "      <td>6.07</td>\n",
       "      <td>24.8</td>\n",
       "    </tr>\n",
       "    <tr>\n",
       "      <th>140</th>\n",
       "      <td>0.29090</td>\n",
       "      <td>0.0</td>\n",
       "      <td>21.89</td>\n",
       "      <td>0</td>\n",
       "      <td>0.624</td>\n",
       "      <td>6.174</td>\n",
       "      <td>93.6</td>\n",
       "      <td>1.6119</td>\n",
       "      <td>4</td>\n",
       "      <td>437</td>\n",
       "      <td>21.2</td>\n",
       "      <td>388.08</td>\n",
       "      <td>24.16</td>\n",
       "      <td>14.0</td>\n",
       "    </tr>\n",
       "    <tr>\n",
       "      <th>103</th>\n",
       "      <td>0.21161</td>\n",
       "      <td>0.0</td>\n",
       "      <td>8.56</td>\n",
       "      <td>0</td>\n",
       "      <td>0.520</td>\n",
       "      <td>6.137</td>\n",
       "      <td>87.4</td>\n",
       "      <td>2.7147</td>\n",
       "      <td>5</td>\n",
       "      <td>384</td>\n",
       "      <td>20.9</td>\n",
       "      <td>394.47</td>\n",
       "      <td>13.44</td>\n",
       "      <td>19.3</td>\n",
       "    </tr>\n",
       "  </tbody>\n",
       "</table>\n",
       "</div>"
      ],
      "text/plain": [
       "         crim    zn  indus  chas    nox     rm    age     dis  rad  tax  \\\n",
       "409  14.43830   0.0  18.10     0  0.597  6.852  100.0  1.4655   24  666   \n",
       "84    0.05059   0.0   4.49     0  0.449  6.389   48.0  4.7794    3  247   \n",
       "300   0.04417  70.0   2.24     0  0.400  6.871   47.4  7.8278    5  358   \n",
       "140   0.29090   0.0  21.89     0  0.624  6.174   93.6  1.6119    4  437   \n",
       "103   0.21161   0.0   8.56     0  0.520  6.137   87.4  2.7147    5  384   \n",
       "\n",
       "     ptratio       b  lstat  medv  \n",
       "409     20.2  179.36  19.78  27.5  \n",
       "84      18.5  396.90   9.62  23.9  \n",
       "300     14.8  390.86   6.07  24.8  \n",
       "140     21.2  388.08  24.16  14.0  \n",
       "103     20.9  394.47  13.44  19.3  "
      ]
     },
     "execution_count": 19,
     "metadata": {},
     "output_type": "execute_result"
    }
   ],
   "source": [
    "boston_df = pd.read_csv(\"https://raw.githubusercontent.com/selva86/datasets/master/BostonHousing.csv\")\n",
    "# https://stackoverflow.com/questions/29576430/shuffle-dataframe-rows\n",
    "# Shuffle rows to randomize\n",
    "boston_df = boston_df.sample(frac=1)"
   ]
  },
  {
   "cell_type": "markdown",
   "metadata": {},
   "source": [
    "*a. Compute the dimensions of the data structures. Include code to print these values.*\n",
    "\n"
   ]
  },
  {
   "cell_type": "code",
   "execution_count": 37,
   "metadata": {},
   "outputs": [
    {
     "name": "stdout",
     "output_type": "stream",
     "text": [
      "Rows: 506 Columns: 15\n"
     ]
    }
   ],
   "source": [
    "print(\"Rows:\", boston_df.shape[0],\n",
    "      \"Columns:\", boston_df.shape[1])"
   ]
  },
  {
   "cell_type": "markdown",
   "metadata": {},
   "source": [
    "*b. Construct a suitable testing set, training set, and validation set for this data. Submit code to create these datasets but do not include the datasets themselves.*\n"
   ]
  },
  {
   "cell_type": "code",
   "execution_count": 44,
   "metadata": {},
   "outputs": [
    {
     "name": "stdout",
     "output_type": "stream",
     "text": [
      "Testing Set: (126, 15) Validation Set: (114, 15) Testing Set (266, 15)\n"
     ]
    }
   ],
   "source": [
    "testing_set = boston_df.tail(126)\n",
    "temporary_set = boston_df.head(380)\n",
    "validation_set = temporary_set.tail(114)\n",
    "training_set = temporary_set.head(266)\n",
    "\n",
    "print(\"Testing Set:\", testing_set.shape,\n",
    "      \"Validation Set:\", validation_set.shape,\n",
    "      \"Testing Set\", training_set.shape)"
   ]
  },
  {
   "cell_type": "markdown",
   "metadata": {},
   "source": [
    "*c. Create one new synthetic feature that could be useful for machine learning in this domain. Explain what it is and why it might be useful, and submit code to add it to the dataset.*"
   ]
  },
  {
   "cell_type": "code",
   "execution_count": 66,
   "metadata": {},
   "outputs": [
    {
     "name": "stdout",
     "output_type": "stream",
     "text": [
      "409    46.063652\n",
      "84     53.229399\n",
      "300    62.000000\n",
      "140    22.435897\n",
      "103    37.115385\n",
      "Name: nitrogen_oxide_and_wealth, dtype: float64\n"
     ]
    }
   ],
   "source": [
    "boston_df['nitrogen_oxide_and_wealth'] = boston_df['medv']/boston_df['nox']\n",
    "print(boston_df['nitrogen_oxide_and_wealth'].head())"
   ]
  },
  {
   "cell_type": "markdown",
   "metadata": {},
   "source": [
    "This synthetic feature explores the relationship between nitrogen oxide contentration (which implies emission) and wealth in the area. Nitrogen oxides comprise seven gases, some of which are hazardous and contribute to global warming. I wanted to see if wealth has a relationship to the environmental awareness of an area."
   ]
  }
 ],
 "metadata": {
  "kernelspec": {
   "display_name": "Python 3",
   "language": "python",
   "name": "python3"
  },
  "language_info": {
   "codemirror_mode": {
    "name": "ipython",
    "version": 3
   },
   "file_extension": ".py",
   "mimetype": "text/x-python",
   "name": "python",
   "nbconvert_exporter": "python",
   "pygments_lexer": "ipython3",
   "version": "3.8.2"
  }
 },
 "nbformat": 4,
 "nbformat_minor": 4
}
