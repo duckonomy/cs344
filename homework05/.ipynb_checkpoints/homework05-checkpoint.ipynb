{
 "cells": [
  {
   "cell_type": "markdown",
   "metadata": {},
   "source": [
    "# Homework 5\n",
    "Ian Park"
   ]
  },
  {
   "cell_type": "markdown",
   "metadata": {},
   "source": [
    "## 1."
   ]
  },
  {
   "cell_type": "markdown",
   "metadata": {},
   "source": [
    "Given\n",
    "1. Mythical -> Immortal\n",
    "2. !Mythical -> !Immortal ^ Mammal\n",
    "3. Immortal v Mammal -> Horned\n",
    "4. Horned -> Magical\n",
    "\n",
    "CNF\n",
    "1. (!Mythical v Immortal)\n",
    "2. (Mythical v (!Immortal ^ Mammal)\n",
    "3. (!(Immortal v Mammal) v Horned)\n",
    "4. (!Horned v Magical)\n",
    "\n",
    "Proofs\n",
    "\n",
    "1. To prove that the unicorn is **mythical**, we must find a clause that implies that it is mythical and make sure that it is true for mythical to follow. However, none of the clauses implies that the unicorn is mythical.\n",
    "\n",
    "2. To prove that the unicorn is **magical** and **horned** assuming .\n",
    "    1. !Mythical v Immortal (from CNF[1])\n",
    "    2. Mythical v !Immortal (from CNF[2])\n",
    "    3. Mythical v Mammal (from CNF[2])\n",
    "    4. Immortal v Mammal (resolution 1, 3)\n",
    "    5. Horned (modus ponens on Given[3] and 4)\n",
    "    6. Magical (modus ponens on Given[4] and 5)\n",
    "    \n",
    "Speculate on whether you could program the solution in Prolog (easily)? Explain why or why not?\n",
    "\n",
    "One tricky part would be to prove the mortality of an animal given it is non-mythical(second given). Since you cannot assert false in Prolog due to the lack of asserted facts or rules that make it provable, it would be difficult to implement as it is.\n"
   ]
  },
  {
   "cell_type": "markdown",
   "metadata": {},
   "source": [
    "## 2."
   ]
  },
  {
   "cell_type": "markdown",
   "metadata": {},
   "source": [
    "```\n",
    "word(astante,  a,s,t,a,n,t,e).\n",
    "word(astoria,  a,s,t,o,r,i,a).\n",
    "word(baratto,  b,a,r,a,t,t,o).\n",
    "word(cobalto,  c,o,b,a,l,t,o).\n",
    "word(pistola,  p,i,s,t,o,l,a).\n",
    "word(statale,  s,t,a,t,a,l,e).\n",
    "                                                                \n",
    "crossword(V1, V2, V3, H1, H2, H3) :- word(V1, _,V1H1,_,V1H2,_,V1H3,_),\n",
    "                                     word(V2, _,V2H1,_,V2H2,_,V2H3,_),\n",
    "                                     word(V3, _,V3H1,_,V3H2,_,V3H3,_),\n",
    "                                     word(H1, _,V1H1,_,V2H1,_,V3H1,_),\n",
    "                                     word(H2, _,V1H2,_,V2H2,_,V3H2,_),\n",
    "                                     word(H3, _,V1H3,_,V2H3,_,V3H3,_),\n",
    "                                     H1\\=V1,\n",
    "                                     H2\\=V2,\n",
    "                                     H3\\=V3.\n",
    "```"
   ]
  }
 ],
 "metadata": {
  "kernelspec": {
   "display_name": "Python 3",
   "language": "python",
   "name": "python3"
  },
  "language_info": {
   "codemirror_mode": {
    "name": "ipython",
    "version": 3
   },
   "file_extension": ".py",
   "mimetype": "text/x-python",
   "name": "python",
   "nbconvert_exporter": "python",
   "pygments_lexer": "ipython3",
   "version": "3.8.2"
  }
 },
 "nbformat": 4,
 "nbformat_minor": 4
}
